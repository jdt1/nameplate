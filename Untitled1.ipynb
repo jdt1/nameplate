{
 "cells": [
  {
   "cell_type": "code",
   "execution_count": 19,
   "metadata": {
    "collapsed": true
   },
   "outputs": [],
   "source": [
    "import random"
   ]
  },
  {
   "cell_type": "code",
   "execution_count": 45,
   "metadata": {
    "collapsed": true
   },
   "outputs": [],
   "source": [
    "def generate_pad(x, y, padnumber, netnumber):\n",
    "    with open('component.txt') as f:\n",
    "        return f.read().format(nr=1, x=3*x, y=-3*y, netnumber=2)"
   ]
  },
  {
   "cell_type": "code",
   "execution_count": 46,
   "metadata": {
    "collapsed": false,
    "scrolled": false
   },
   "outputs": [],
   "source": [
    "def generate_net(netnumber):\n",
    "    with open('net.txt') as f:\n",
    "        return f.read().format(netnumber=netnumber)"
   ]
  },
  {
   "cell_type": "code",
   "execution_count": 65,
   "metadata": {
    "collapsed": true
   },
   "outputs": [],
   "source": [
    "def generate_connection(nr1, nr2):\n",
    "    with open('connection.txt') as f:\n",
    "        return f.read().format(nr1=nr1, nr2=nr2)"
   ]
  },
  {
   "cell_type": "code",
   "execution_count": 66,
   "metadata": {
    "collapsed": false
   },
   "outputs": [
    {
     "data": {
      "text/plain": [
       "'    (Connection \"Y\" 0 100 50 20 1 2 1 1 \"N\")\\n'"
      ]
     },
     "execution_count": 66,
     "metadata": {},
     "output_type": "execute_result"
    }
   ],
   "source": [
    "generate_connection(1,2)"
   ]
  },
  {
   "cell_type": "markdown",
   "metadata": {},
   "source": [
    "### Generate random pads and assign to random nets"
   ]
  },
  {
   "cell_type": "code",
   "execution_count": 109,
   "metadata": {
    "collapsed": false
   },
   "outputs": [],
   "source": [
    "nets = []\n",
    "components = []\n",
    "connections = []\n",
    "\n",
    "\n",
    "for netnumber in range(10):\n",
    "    nets.append(generate_net(netnumber))\n",
    "    for padnumber in range(100):\n",
    "        x = random.uniform(0,197)\n",
    "        y = random.uniform(0,80)\n",
    "        components.append(generate_pad(x,y,padnumber,netnumber))\n",
    "        connections.append(generate_connection(0,0))\n",
    "          \n",
    "nets = '\\n'.join(nets)\n",
    "components = '\\n'.join(components)\n",
    "connections = '\\n'.join(connections)\n",
    "\n",
    "with open('skeleton.asc') as infile:\n",
    "    with open('random_pads.asc','w') as outfile:\n",
    "        file = infile.read().format(components=components, nets=nets, connections=connections)\n",
    "        outfile.write(file)"
   ]
  },
  {
   "cell_type": "markdown",
   "metadata": {},
   "source": [
    "### Generate two pads and assign to same net"
   ]
  },
  {
   "cell_type": "code",
   "execution_count": 96,
   "metadata": {
    "collapsed": false
   },
   "outputs": [],
   "source": [
    "nets = []\n",
    "components = []\n",
    "connections = []\n",
    "\n",
    "nets.append(generate_net(0))\n",
    "\n",
    "components.append(generate_pad(10.01, 50.01, 0, 0))\n",
    "components.append(generate_pad(80.01, 50.01, 1, 2))\n",
    "\n",
    "connections.append(generate_connection(0,1))\n",
    "          \n",
    "nets = '\\n'.join(nets)\n",
    "components = '\\n'.join(components)\n",
    "connections = '\\n'.join(connections)\n",
    "\n",
    "with open('skeleton.asc') as infile:\n",
    "    with open('twopads.asc','w') as outfile:\n",
    "        file = infile.read().format(components=components, nets=nets, connections=connections)\n",
    "        outfile.write(file)"
   ]
  },
  {
   "cell_type": "code",
   "execution_count": 78,
   "metadata": {
    "collapsed": false
   },
   "outputs": [
    {
     "data": {
      "text/plain": [
       "'    (Connection \"Y\" 0 100 50 20 0 1 1 1 \"N\")\\n'"
      ]
     },
     "execution_count": 78,
     "metadata": {},
     "output_type": "execute_result"
    }
   ],
   "source": [
    "'{connections}'.format(connections=connections)"
   ]
  }
 ],
 "metadata": {
  "kernelspec": {
   "display_name": "Python 3",
   "language": "python",
   "name": "python3"
  },
  "language_info": {
   "codemirror_mode": {
    "name": "ipython",
    "version": 3
   },
   "file_extension": ".py",
   "mimetype": "text/x-python",
   "name": "python",
   "nbconvert_exporter": "python",
   "pygments_lexer": "ipython3",
   "version": "3.6.0"
  }
 },
 "nbformat": 4,
 "nbformat_minor": 2
}
